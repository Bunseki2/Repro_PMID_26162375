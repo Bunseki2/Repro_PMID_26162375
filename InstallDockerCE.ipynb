{
 "cells": [
  {
   "cell_type": "code",
   "execution_count": null,
   "metadata": {
    "collapsed": true
   },
   "outputs": [],
   "source": [
    "##install Docker CE on AWS foloowing  instructions https://docs.docker.com/install/linux/docker-ce/ubuntu/#install-docker-ce\n",
    "\n",
    "#Update the apt package index:\n",
    "sudo apt-get update\n",
    "\n",
    "#Install packages to allow apt to use a repository over HTTPS:\n",
    "sudo apt-get install\\\n",
    "apt-transport-https\\\n",
    "ca-certificates\\     \n",
    "curl\\\n",
    "software-properties-common\n",
    "\n",
    "#Add Docker’s official GPG key:\n",
    "curl -fsSL https://download.docker.com/linux/ubuntu/gpg | sudo apt-key add -\n",
    "\n",
    "#Verify that you now have the key with the fingerprint 9DC8 5822 9FC7 DD38 854A E2D8 8D81 803C 0EBF CD88, by searching for the last 8 characters of the fingerprint.\n",
    "sudo apt-key fingerprint 0EBFCD88\n",
    "\n",
    "#Use the following command to set up the stable repository\n",
    "sudo add-apt-repository    \"deb [arch=amd64] https://download.docker.com/linux/ubuntu \\\n",
    "    $(lsb_release -cs) \\\n",
    "    stable\"\n",
    "\n",
    "#Install the latest version of Docker CE,\n",
    "sudo apt-get install docker-ce\n",
    "\n",
    "#Verify that Docker CE is installed correctly by running the hello-world image.\n",
    "sudo docker run hello-world\n"
   ]
  },
  {
   "cell_type": "code",
   "execution_count": null,
   "metadata": {
    "collapsed": true
   },
   "outputs": [],
   "source": [
    "#make docker file. thanks to Steve Tsang"
   ]
  },
  {
   "cell_type": "code",
   "execution_count": null,
   "metadata": {
    "collapsed": true
   },
   "outputs": [],
   "source": [
    "#build docker imane named \"flytools\"\n",
    "docker build -t flytools ."
   ]
  },
  {
   "cell_type": "code",
   "execution_count": null,
   "metadata": {
    "collapsed": true
   },
   "outputs": [],
   "source": [
    "#To see image is there\n",
    "docker images\n",
    "\n",
    "#going into container\n",
    "docker run -it -v `pwd`:`pwd` -w `pwd` flytools /bin/bash"
   ]
  }
 ],
 "metadata": {
  "kernelspec": {
   "display_name": "Python 3",
   "language": "python",
   "name": "python3"
  },
  "language_info": {
   "codemirror_mode": {
    "name": "ipython",
    "version": 3
   },
   "file_extension": ".py",
   "mimetype": "text/x-python",
   "name": "python",
   "nbconvert_exporter": "python",
   "pygments_lexer": "ipython3",
   "version": "3.6.3"
  }
 },
 "nbformat": 4,
 "nbformat_minor": 2
}
